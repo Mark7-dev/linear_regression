{
    "cells": [
        {
            "cell_type": "code",
            "execution_count": 1,
            "metadata": {},
            "outputs": [],
            "source": [
                "# Library Imports\n",
                "import pandas as pd\n",
                "import numpy as np\n",
                "import sklearn\n",
                "import matplotlib.pyplot as pyplot\n",
                "import pickle\n",
                "from sklearn import linear_model\n",
                "from sklearn.utils import shuffle\n",
                "from matplotlib import style"
            ]
        },
        {
            "cell_type": "code",
            "execution_count": null,
            "metadata": {},
            "outputs": [
                {
                    "name": "stdout",
                    "output_type": "stream",
                    "text": [
                        "   X  Y month  day  FFMC   DMC     DC  ISI  temp  RH  wind  rain  area\n",
                        "0  7  5   mar  fri  86.2  26.2   94.3  5.1   8.2  51   6.7   0.0   0.0\n",
                        "1  7  4   oct  tue  90.6  35.4  669.1  6.7  18.0  33   0.9   0.0   0.0\n",
                        "2  7  4   oct  sat  90.6  43.7  686.9  6.7  14.6  33   1.3   0.0   0.0\n",
                        "3  8  6   mar  fri  91.7  33.3   77.5  9.0   8.3  97   4.0   0.2   0.0\n",
                        "4  8  6   mar  sun  89.3  51.3  102.2  9.6  11.4  99   1.8   0.0   0.0\n"
                    ]
                }
            ],
            "source": [
                "data = pd.read_csv(\"forestfires.csv\")\n",
                "# Read the csv using pandaas\n",
                "print(data.head())"
            ]
        },
        {
            "cell_type": "code",
            "execution_count": null,
            "metadata": {},
            "outputs": [
                {
                    "name": "stdout",
                    "output_type": "stream",
                    "text": [
                        "    DMC     DC  ISI  FFMC  temp  area  wind  rain\n",
                        "0  26.2   94.3  5.1  86.2   8.2   0.0   6.7   0.0\n",
                        "1  35.4  669.1  6.7  90.6  18.0   0.0   0.9   0.0\n",
                        "2  43.7  686.9  6.7  90.6  14.6   0.0   1.3   0.0\n",
                        "3  33.3   77.5  9.0  91.7   8.3   0.0   4.0   0.2\n",
                        "4  51.3  102.2  9.6  89.3  11.4   0.0   1.8   0.0\n"
                    ]
                }
            ],
            "source": [
                "data = data[[\"X\", \"DMC\", \"DC\", \"ISI\", \"FFMC\", \"temp\", \"area\", \"wind\", \"rain\"]]\n",
                "# Prints only the essential data\n",
                "print(data.head())\n"
            ]
        },
        {
            "cell_type": "code",
            "execution_count": null,
            "metadata": {},
            "outputs": [],
            "source": [
                "predict = \"DC\"\n",
                "\n",
                "x = np.array(data.drop(predict, axis=1))\n",
                "y = np.array(data[predict])"
            ]
        },
        {
            "cell_type": "code",
            "execution_count": null,
            "metadata": {},
            "outputs": [],
            "source": [
                "# Split the data set into train and test sets\n",
                "x_train, x_test, y_train, y_test = sklearn.model_selection.train_test_split(x, y, test_size=0.1)"
            ]
        },
        {
            "cell_type": "code",
            "execution_count": null,
            "metadata": {},
            "outputs": [
                {
                    "name": "stdout",
                    "output_type": "stream",
                    "text": [
                        "0.5193241117513647\n"
                    ]
                }
            ],
            "source": [
                "linear = linear_model.LinearRegression()\n",
                "\n",
                "# # Define the line of best fit\n",
                "linear.fit(x_train, y_train)\n",
                "acc = linear.score(x_test, y_test)\n",
                "print(acc)"
            ]
        },
        {
            "cell_type": "code",
            "execution_count": null,
            "metadata": {},
            "outputs": [],
            "source": [
                "with open(\"forestfires.pickle\", \"wb\") as f:\n",
                "    pickle.dump(linear, f)"
            ]
        },
        {
            "cell_type": "code",
            "execution_count": null,
            "metadata": {},
            "outputs": [],
            "source": [
                "# Load the pickle file\n",
                "pickle_in = open(\"forestfires.pickle\", \"rb\")\n",
                "linear = pickle.load(pickle_in)"
            ]
        },
        {
            "cell_type": "code",
            "execution_count": null,
            "metadata": {},
            "outputs": [
                {
                    "name": "stdout",
                    "output_type": "stream",
                    "text": [
                        "Coefficient: \n",
                        " [  2.18316135  -0.9595598    1.49584389   8.95061211  -0.04428003\n",
                        " -11.80886172 -13.81836883]\n",
                        "Intercept: \n",
                        " 61.273233893042516\n"
                    ]
                }
            ],
            "source": [
                "print('Coefficient: \\n', linear.coef_)\n",
                "print('Intercept: \\n', linear.intercept_)"
            ]
        },
        {
            "cell_type": "code",
            "execution_count": null,
            "metadata": {},
            "outputs": [
                {
                    "name": "stdout",
                    "output_type": "stream",
                    "text": [
                        "624.9887901054573 [126.5   7.   90.9  19.4   0.    1.3   0. ] 686.5\n",
                        "695.4613648695012 [169.7  12.3  93.9  23.4   0.    6.3   0. ] 411.8\n",
                        "546.9594626086741 [122.3   12.9   94.2   15.4   10.13   4.     0.  ] 589.9\n",
                        "454.113322102028 [82.9   6.2  90.1  15.4  37.71  4.5   0.  ] 735.7\n",
                        "374.80207408974456 [39.7   6.2  90.1  15.2  31.86  3.1   0.  ] 86.6\n",
                        "348.6111928670191 [32.8  3.  84.9 16.7  0.   4.9  0. ] 664.2\n",
                        "594.4644858976349 [102.3   8.4  92.2  24.2   0.    3.1   0. ] 751.5\n",
                        "486.3156091115387 [85.1 15.9 94.3 19.8  0.   5.4  0. ] 692.3\n",
                        "216.56696115223028 [ 3.6   1.8  79.5   4.6   6.84  0.9   0.  ] 15.3\n",
                        "733.8802224754046 [1.751e+02 1.380e+01 9.180e+01 2.570e+01 9.000e-02 5.400e+00 0.000e+00] 700.7\n",
                        "866.509518589109 [290.    7.4  90.3  10.3  18.3   4.    0. ] 855.3\n",
                        "550.9327209671659 [145.4  10.7  91.5   8.    0.    2.2   0. ] 608.2\n",
                        "571.9371761492599 [147.3    9.    88.8   14.4    5.23   5.4    0.  ] 614.5\n",
                        "495.3007394304168 [88.8   8.5  92.3  17.1   6.57  3.6   0.  ] 440.9\n",
                        "596.9446659712389 [142.4   10.6   91.4   19.6  196.48   5.8    0.  ] 601.4\n",
                        "514.8790953369949 [94.1  7.1 91.1 19.2  0.   4.5  0. ] 232.1\n",
                        "854.4875249420425 [284.9  10.1  89.7  10.5   0.    4.    0. ] 844.0\n",
                        "614.7223303150632 [142.4   10.6   91.4   20.1    2.74   5.4    0.  ] 601.4\n",
                        "620.1627816508072 [166.9   7.1  91.   18.5   0.    8.5   0. ] 752.6\n",
                        "711.0877507137329 [181.1  14.3  96.1  21.6   0.    4.9   0.8] 671.2\n",
                        "863.6719988315865 [227.   12.   94.8  25.    0.    4.    0. ] 706.7\n",
                        "481.7987408135339 [80.9 17.9 93.7 17.6  0.   3.1  0. ] 685.2\n",
                        "555.8749485636114 [108.3  17.   94.8  20.1   0.    4.    0. ] 647.1\n",
                        "493.5614221662436 [96.3 56.1 94.3 21.   0.   4.5  0. ] 200.0\n",
                        "833.6618811753236 [276.3    7.1   91.    14.5    3.71   7.6    0.  ] 825.1\n",
                        "219.32884450930186 [18.2   3.   84.9   5.3   2.14  4.5   0.  ] 55.0\n",
                        "315.5262732659914 [41.5  8.7 90.  11.3  0.   5.4  0. ] 682.6\n",
                        "324.41204466664533 [39.7  6.2 90.1 10.6  0.   4.   0. ] 86.6\n",
                        "612.490770475075 [104.2   9.   91.6  24.2   0.    1.8   0. ] 474.9\n",
                        "270.8899618230547 [18.9  8.  90.9 11.6  0.   5.4  0. ] 30.6\n",
                        "727.4453439380234 [141.2  13.9  93.3  27.6   0.    1.3   0. ] 713.9\n",
                        "495.4580011299723 [108.4   6.2  91.6   9.8   0.    1.8   0. ] 764.0\n",
                        "760.0336328420846 [152.   13.8  95.8  32.4   0.    4.5   0. ] 624.1\n",
                        "671.8227334247947 [137.     9.2   92.9   21.5   11.06   0.9    0.  ] 706.4\n",
                        "330.2266583901972 [52.2   5.   87.6  11.   27.35  5.8   0.  ] 103.8\n",
                        "578.6604974761815 [132.3  12.5  91.1  16.4   0.    3.6   0. ] 812.1\n",
                        "686.385398100971 [139.4   20.    94.5   28.9   49.59   4.9    0.  ] 689.1\n",
                        "214.44365658723518 [17.3  9.9 93.4  8.9  0.   8.   0. ] 28.3\n",
                        "467.9413043697764 [80.7  6.3 90.3 17.8  0.   4.9  0. ] 730.2\n",
                        "397.8944100773135 [47.9 10.7 94.  17.3  0.   4.5  0. ] 100.7\n",
                        "809.2052379209642 [231.1   8.4  93.7  18.9   0.    4.9   0. ] 715.1\n",
                        "384.32805985140106 [51.3   8.7  90.   16.6   0.71  5.4   0.  ] 296.3\n",
                        "500.58715569630795 [61.1   9.4  90.5  24.5  70.32  3.1   0.  ] 252.6\n",
                        "453.6866566979392 [99.    9.6  92.1  10.1   3.71  3.6   0.  ] 745.3\n",
                        "761.6342676494463 [181.3    7.6   91.6   24.3    3.63   3.6    0.  ] 613.0\n",
                        "717.195213568164 [203.2   8.1  92.   10.4   0.    0.9   0. ] 664.5\n",
                        "340.50111806202744 [35.8  7.8 91.7 15.1  0.   5.4  0. ] 80.8\n",
                        "500.02274913948287 [93.3   7.5  90.4  19.1   3.52  5.4   0.  ] 298.1\n",
                        "939.4393367993242 [276.3    7.1   91.    21.9   70.76   4.     0.  ] 825.1\n",
                        "538.7544199345778 [88.2   8.3  91.1  22.8   4.95  4.    0.  ] 731.7\n",
                        "755.9921636872622 [157.3  13.5  93.1  28.7   0.    2.7   0. ] 666.7\n",
                        "283.78309091196206 [19.5  2.8 85.9 13.7  0.   5.8  0. ] 57.3\n"
                    ]
                }
            ],
            "source": [
                "predictions = linear.predict(x_test)\n",
                "\n",
                "for x in range(len(predictions)):\n",
                "    print(predictions[x], x_test[x], y_test[x]) "
            ]
        },
        {
            "cell_type": "code",
            "execution_count": 441,
            "metadata": {},
            "outputs": [
                {
                    "data": {
                        "image/png": "[encoded data removed]",
                        "text/plain": [
                            "<Figure size 640x480 with 1 Axes>"
                        ]
                    },
                    "metadata": {},
                    "output_type": "display_data"
                }
            ],
            "source": [
                "style.use(\"ggplot\")\n",
                "\n",
                "# Set up a scatter plot\n",
                "pyplot.scatter(predictions, y_test)\n",
                "pyplot.xlabel(\"predictions\")\n",
                "pyplot.ylabel(\"Drought Code\")\n",
                "pyplot.show()"
            ]
        }
    ],
    "metadata": {
        "kernelspec": {
            "display_name": "Python 3 (ipykernel)",
            "language": "python",
            "name": "python3"
        },
        "language_info": {
            "codemirror_mode": {
                "name": "ipython",
                "version": 3
            },
            "file_extension": ".py",
            "mimetype": "text/x-python",
            "name": "python",
            "nbconvert_exporter": "python",
            "pygments_lexer": "ipython3",
            "version": "3.12.4"
        }
    },
    "nbformat": 4,
    "nbformat_minor": 2
}
